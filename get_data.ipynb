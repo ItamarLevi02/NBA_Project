{
 "cells": [
  {
   "cell_type": "code",
   "execution_count": 5,
   "metadata": {},
   "outputs": [],
   "source": [
    "import os\n",
    "from bs4 import BeautifulSoup\n",
    "from playwright.async_api import async_playwright, TimeoutError as PlaywrightTimeout\n",
    "import time"
   ]
  },
  {
   "cell_type": "code",
   "execution_count": 6,
   "metadata": {},
   "outputs": [],
   "source": [
    "SEASONS = list(range(2016,2024))"
   ]
  },
  {
   "cell_type": "code",
   "execution_count": 7,
   "metadata": {},
   "outputs": [],
   "source": [
    "DATA_DIR = \"data\"\n",
    "STANDINGS_DIR = os.path.join(DATA_DIR, \"standings\")\n",
    "SCORES_DIR = os.path.join(DATA_DIR, \"scores\")"
   ]
  },
  {
   "cell_type": "code",
   "execution_count": 14,
   "metadata": {},
   "outputs": [],
   "source": [
    "async def get_html(url, selector, sleep=4 , retries=3):\n",
    "    html = None\n",
    "    for i in range(1, retries+1):\n",
    "        time.sleep(sleep * i)\n",
    "\n",
    "        try:\n",
    "            async with async_playwright() as p:\n",
    "                browser = await p.firefox.launch()\n",
    "                page = await browser.new_page()\n",
    "                await page.goto(url)\n",
    "                print (await page.title())\n",
    "                html = await page.inner_html(selector)\n",
    "        except PlaywrightTimeout:\n",
    "            print(f\"Timewout error on {url}\")\n",
    "            continue\n",
    "        else:\n",
    "            break\n",
    "    return html\n",
    "\n"
   ]
  },
  {
   "cell_type": "code",
   "execution_count": 15,
   "metadata": {},
   "outputs": [],
   "source": [
    "async def scrape_season(season):\n",
    "    url = f\"https://www.basketball-reference.com/leagues/NBA_{season}_games.html\"\n",
    "    html = await get_html(url,\"#content .filter\")\n",
    "    \n",
    "    soup = BeautifulSoup(html)\n",
    "    links = soup.find_all(\"a\")\n",
    "    href = [l[\"href\"] for l in links]\n",
    "    standings_pages = [f\"https://basketball-reference.com{l}\" for l in href]\n",
    "\n",
    "    for url in standings_pages:\n",
    "        save_path = os.path.join(STANDINGS_DIR, url.split(\"/\")[-1])\n",
    "        if os.path.exists(save_path):\n",
    "            continue\n",
    "\n",
    "        html = await get_html(url, \"#all_schedule\")\n",
    "        with open(save_path, \"w+\") as f:\n",
    "            f.write(html)\n"
   ]
  },
  {
   "cell_type": "code",
   "execution_count": 12,
   "metadata": {},
   "outputs": [
    {
     "name": "stdout",
     "output_type": "stream",
     "text": [
      "2015-16 NBA Schedule | Basketball-Reference.com\n",
      "2016-17 NBA Schedule | Basketball-Reference.com\n",
      "2017-18 NBA Schedule | Basketball-Reference.com\n",
      "2018-19 NBA Schedule | Basketball-Reference.com\n",
      "2019-20 NBA Schedule | Basketball-Reference.com\n",
      "2020-21 NBA Schedule | Basketball-Reference.com\n",
      "2021-22 NBA Schedule | Basketball-Reference.com\n",
      "2022-23 NBA Schedule | Basketball-Reference.com\n"
     ]
    }
   ],
   "source": [
    "for season in SEASONS:\n",
    "    await scrape_season(season)"
   ]
  },
  {
   "cell_type": "code",
   "execution_count": 16,
   "metadata": {},
   "outputs": [
    {
     "name": "stdout",
     "output_type": "stream",
     "text": [
      "['NBA_2022_games-october.html', 'NBA_2021_games-june.html', 'NBA_2020_games-march.html', 'NBA_2020_games-september.html', 'NBA_2020_games-january.html', 'NBA_2020_games-august.html', 'NBA_2023_games-may.html', 'NBA_2019_games-april.html', 'NBA_2023_games-april.html', 'NBA_2022_games-may.html', 'NBA_2019_games-february.html', 'NBA_2018_games-february.html', 'NBA_2023_games-january.html', 'NBA_2016_games-april.html', 'NBA_2021_games-march.html', 'NBA_2018_games-january.html', 'NBA_2017_games-february.html', 'NBA_2016_games-february.html', 'NBA_2017_games-october.html', 'NBA_2018_games-april.html', 'NBA_2020_games-december.html', 'NBA_2019_games-october.html', 'NBA_2020_games-november.html', 'NBA_2021_games-may.html', 'NBA_2021_games-december.html', 'NBA_2022_games-april.html', 'NBA_2022_games-december.html', 'NBA_2023_games-november.html', 'NBA_2023_games-december.html', 'NBA_2017_games-april.html', 'NBA_2022_games-november.html', 'NBA_2016_games-january.html', 'NBA_2018_games-october.html', 'NBA_2017_games-march.html', 'NBA_2021_games-february.html', 'NBA_2020_games-february.html', 'NBA_2017_games-june.html', 'NBA_2022_games-march.html', 'NBA_2023_games-february.html', 'NBA_2018_games-june.html', 'NBA_2017_games-january.html', 'NBA_2022_games-february.html', 'NBA_2017_games-november.html', 'NBA_2016_games-december.html', 'NBA_2021_games-july.html', 'NBA_2016_games-november.html', 'NBA_2022_games-june.html', 'NBA_2018_games-march.html', 'NBA_2017_games-december.html', 'NBA_2019_games-january.html', 'NBA_2016_games-october.html', 'NBA_2021_games-april.html', 'NBA_2019_games-november.html', 'NBA_2020_games-july.html', 'NBA_2018_games-december.html', 'NBA_2022_games-january.html', 'NBA_2018_games-november.html', 'NBA_2016_games-march.html', 'NBA_2019_games-december.html', 'NBA_2023_games-june.html', 'NBA_2019_games-may.html', 'NBA_2020_games-october.html', 'NBA_2016_games-may.html', 'NBA_2023_games-march.html', 'NBA_2019_games-march.html', 'NBA_2017_games-may.html', 'NBA_2016_games-june.html', 'NBA_2023_games-october.html', 'NBA_2019_games-june.html', 'NBA_2018_games-may.html', 'NBA_2021_games-january.html']\n"
     ]
    }
   ],
   "source": [
    "standings_files = os.listdir(STANDINGS_DIR)\n",
    "print(standings_files)"
   ]
  },
  {
   "cell_type": "code",
   "execution_count": 20,
   "metadata": {},
   "outputs": [],
   "source": [
    "async def scrape_game(standings_file):\n",
    "    with open(standings_file, 'r') as f:\n",
    "        html = f.read()\n",
    "\n",
    "    soup = BeautifulSoup(html)\n",
    "    links = soup.find_all(\"a\")\n",
    "    hrefs = [l.get(\"href\") for l in links]\n",
    "    box_scores = [l for l in hrefs if l and \"boxscore\" in l and \".html\" in l]\n",
    "    box_scores = [f\"https://www.basketball-reference.com{l}\" for l in box_scores]\n",
    "\n",
    "    for url in box_scores:\n",
    "        save_path = os.path.join(SCORES_DIR, url.split(\"/\")[-1])\n",
    "        if os.path.exists(save_path):\n",
    "            continue\n",
    "\n",
    "        html = await get_html(url, \"#content\")\n",
    "        if not html:\n",
    "            continue\n",
    "        with open(save_path, \"w\") as f:\n",
    "            f.write(html)\n"
   ]
  },
  {
   "cell_type": "code",
   "execution_count": 23,
   "metadata": {},
   "outputs": [
    {
     "name": "stderr",
     "output_type": "stream",
     "text": [
      "Future exception was never retrieved\n",
      "future: <Future finished exception=TargetClosedError('Target page, context or browser has been closed')>\n",
      "playwright._impl._errors.TargetClosedError: Target page, context or browser has been closed\n"
     ]
    },
    {
     "ename": "Error",
     "evalue": "NS_ERROR_UNKNOWN_HOST",
     "output_type": "error",
     "traceback": [
      "\u001b[0;31m---------------------------------------------------------------------------\u001b[0m",
      "\u001b[0;31mError\u001b[0m                                     Traceback (most recent call last)",
      "\u001b[1;32m/Users/itamarlevi/Desktop/NBA_Project/get_data.ipynb Cell 9\u001b[0m line \u001b[0;36m3\n\u001b[1;32m      <a href='vscode-notebook-cell:/Users/itamarlevi/Desktop/NBA_Project/get_data.ipynb#X12sZmlsZQ%3D%3D?line=0'>1</a>\u001b[0m \u001b[39mfor\u001b[39;00m f \u001b[39min\u001b[39;00m standings_files:\n\u001b[1;32m      <a href='vscode-notebook-cell:/Users/itamarlevi/Desktop/NBA_Project/get_data.ipynb#X12sZmlsZQ%3D%3D?line=1'>2</a>\u001b[0m     filepath\u001b[39m=\u001b[39m os\u001b[39m.\u001b[39mpath\u001b[39m.\u001b[39mjoin(STANDINGS_DIR, f)\n\u001b[0;32m----> <a href='vscode-notebook-cell:/Users/itamarlevi/Desktop/NBA_Project/get_data.ipynb#X12sZmlsZQ%3D%3D?line=2'>3</a>\u001b[0m     \u001b[39mawait\u001b[39;00m scrape_game(filepath)\n",
      "\u001b[1;32m/Users/itamarlevi/Desktop/NBA_Project/get_data.ipynb Cell 9\u001b[0m line \u001b[0;36m1\n\u001b[1;32m     <a href='vscode-notebook-cell:/Users/itamarlevi/Desktop/NBA_Project/get_data.ipynb#X12sZmlsZQ%3D%3D?line=12'>13</a>\u001b[0m \u001b[39mif\u001b[39;00m os\u001b[39m.\u001b[39mpath\u001b[39m.\u001b[39mexists(save_path):\n\u001b[1;32m     <a href='vscode-notebook-cell:/Users/itamarlevi/Desktop/NBA_Project/get_data.ipynb#X12sZmlsZQ%3D%3D?line=13'>14</a>\u001b[0m     \u001b[39mcontinue\u001b[39;00m\n\u001b[0;32m---> <a href='vscode-notebook-cell:/Users/itamarlevi/Desktop/NBA_Project/get_data.ipynb#X12sZmlsZQ%3D%3D?line=15'>16</a>\u001b[0m html \u001b[39m=\u001b[39m \u001b[39mawait\u001b[39;00m get_html(url, \u001b[39m\"\u001b[39m\u001b[39m#content\u001b[39m\u001b[39m\"\u001b[39m)\n\u001b[1;32m     <a href='vscode-notebook-cell:/Users/itamarlevi/Desktop/NBA_Project/get_data.ipynb#X12sZmlsZQ%3D%3D?line=16'>17</a>\u001b[0m \u001b[39mif\u001b[39;00m \u001b[39mnot\u001b[39;00m html:\n\u001b[1;32m     <a href='vscode-notebook-cell:/Users/itamarlevi/Desktop/NBA_Project/get_data.ipynb#X12sZmlsZQ%3D%3D?line=17'>18</a>\u001b[0m     \u001b[39mcontinue\u001b[39;00m\n",
      "\u001b[1;32m/Users/itamarlevi/Desktop/NBA_Project/get_data.ipynb Cell 9\u001b[0m line \u001b[0;36m1\n\u001b[1;32m      <a href='vscode-notebook-cell:/Users/itamarlevi/Desktop/NBA_Project/get_data.ipynb#X12sZmlsZQ%3D%3D?line=7'>8</a>\u001b[0m browser \u001b[39m=\u001b[39m \u001b[39mawait\u001b[39;00m p\u001b[39m.\u001b[39mfirefox\u001b[39m.\u001b[39mlaunch()\n\u001b[1;32m      <a href='vscode-notebook-cell:/Users/itamarlevi/Desktop/NBA_Project/get_data.ipynb#X12sZmlsZQ%3D%3D?line=8'>9</a>\u001b[0m page \u001b[39m=\u001b[39m \u001b[39mawait\u001b[39;00m browser\u001b[39m.\u001b[39mnew_page()\n\u001b[0;32m---> <a href='vscode-notebook-cell:/Users/itamarlevi/Desktop/NBA_Project/get_data.ipynb#X12sZmlsZQ%3D%3D?line=9'>10</a>\u001b[0m \u001b[39mawait\u001b[39;00m page\u001b[39m.\u001b[39mgoto(url)\n\u001b[1;32m     <a href='vscode-notebook-cell:/Users/itamarlevi/Desktop/NBA_Project/get_data.ipynb#X12sZmlsZQ%3D%3D?line=10'>11</a>\u001b[0m \u001b[39mprint\u001b[39m (\u001b[39mawait\u001b[39;00m page\u001b[39m.\u001b[39mtitle())\n\u001b[1;32m     <a href='vscode-notebook-cell:/Users/itamarlevi/Desktop/NBA_Project/get_data.ipynb#X12sZmlsZQ%3D%3D?line=11'>12</a>\u001b[0m html \u001b[39m=\u001b[39m \u001b[39mawait\u001b[39;00m page\u001b[39m.\u001b[39minner_html(selector)\n",
      "File \u001b[0;32m/Library/Frameworks/Python.framework/Versions/3.12/lib/python3.12/site-packages/playwright/async_api/_generated.py:8612\u001b[0m, in \u001b[0;36mPage.goto\u001b[0;34m(self, url, timeout, wait_until, referer)\u001b[0m\n\u001b[1;32m   8551\u001b[0m \u001b[39masync\u001b[39;00m \u001b[39mdef\u001b[39;00m \u001b[39mgoto\u001b[39m(\n\u001b[1;32m   8552\u001b[0m     \u001b[39mself\u001b[39m,\n\u001b[1;32m   8553\u001b[0m     url: \u001b[39mstr\u001b[39m,\n\u001b[0;32m   (...)\u001b[0m\n\u001b[1;32m   8559\u001b[0m     referer: typing\u001b[39m.\u001b[39mOptional[\u001b[39mstr\u001b[39m] \u001b[39m=\u001b[39m \u001b[39mNone\u001b[39;00m\n\u001b[1;32m   8560\u001b[0m ) \u001b[39m-\u001b[39m\u001b[39m>\u001b[39m typing\u001b[39m.\u001b[39mOptional[\u001b[39m\"\u001b[39m\u001b[39mResponse\u001b[39m\u001b[39m\"\u001b[39m]:\n\u001b[1;32m   8561\u001b[0m \u001b[39m    \u001b[39m\u001b[39m\"\"\"Page.goto\u001b[39;00m\n\u001b[1;32m   8562\u001b[0m \n\u001b[1;32m   8563\u001b[0m \u001b[39m    Returns the main resource response. In case of multiple redirects, the navigation will resolve with the first\u001b[39;00m\n\u001b[0;32m   (...)\u001b[0m\n\u001b[1;32m   8608\u001b[0m \u001b[39m    Union[Response, None]\u001b[39;00m\n\u001b[1;32m   8609\u001b[0m \u001b[39m    \"\"\"\u001b[39;00m\n\u001b[1;32m   8611\u001b[0m     \u001b[39mreturn\u001b[39;00m mapping\u001b[39m.\u001b[39mfrom_impl_nullable(\n\u001b[0;32m-> 8612\u001b[0m         \u001b[39mawait\u001b[39;00m \u001b[39mself\u001b[39m\u001b[39m.\u001b[39m_impl_obj\u001b[39m.\u001b[39mgoto(\n\u001b[1;32m   8613\u001b[0m             url\u001b[39m=\u001b[39murl, timeout\u001b[39m=\u001b[39mtimeout, waitUntil\u001b[39m=\u001b[39mwait_until, referer\u001b[39m=\u001b[39mreferer\n\u001b[1;32m   8614\u001b[0m         )\n\u001b[1;32m   8615\u001b[0m     )\n",
      "File \u001b[0;32m/Library/Frameworks/Python.framework/Versions/3.12/lib/python3.12/site-packages/playwright/_impl/_page.py:500\u001b[0m, in \u001b[0;36mPage.goto\u001b[0;34m(self, url, timeout, waitUntil, referer)\u001b[0m\n\u001b[1;32m    493\u001b[0m \u001b[39masync\u001b[39;00m \u001b[39mdef\u001b[39;00m \u001b[39mgoto\u001b[39m(\n\u001b[1;32m    494\u001b[0m     \u001b[39mself\u001b[39m,\n\u001b[1;32m    495\u001b[0m     url: \u001b[39mstr\u001b[39m,\n\u001b[0;32m   (...)\u001b[0m\n\u001b[1;32m    498\u001b[0m     referer: \u001b[39mstr\u001b[39m \u001b[39m=\u001b[39m \u001b[39mNone\u001b[39;00m,\n\u001b[1;32m    499\u001b[0m ) \u001b[39m-\u001b[39m\u001b[39m>\u001b[39m Optional[Response]:\n\u001b[0;32m--> 500\u001b[0m     \u001b[39mreturn\u001b[39;00m \u001b[39mawait\u001b[39;00m \u001b[39mself\u001b[39m\u001b[39m.\u001b[39m_main_frame\u001b[39m.\u001b[39mgoto(\u001b[39m*\u001b[39m\u001b[39m*\u001b[39mlocals_to_params(\u001b[39mlocals\u001b[39m()))\n",
      "File \u001b[0;32m/Library/Frameworks/Python.framework/Versions/3.12/lib/python3.12/site-packages/playwright/_impl/_frame.py:145\u001b[0m, in \u001b[0;36mFrame.goto\u001b[0;34m(self, url, timeout, waitUntil, referer)\u001b[0m\n\u001b[1;32m    135\u001b[0m \u001b[39masync\u001b[39;00m \u001b[39mdef\u001b[39;00m \u001b[39mgoto\u001b[39m(\n\u001b[1;32m    136\u001b[0m     \u001b[39mself\u001b[39m,\n\u001b[1;32m    137\u001b[0m     url: \u001b[39mstr\u001b[39m,\n\u001b[0;32m   (...)\u001b[0m\n\u001b[1;32m    140\u001b[0m     referer: \u001b[39mstr\u001b[39m \u001b[39m=\u001b[39m \u001b[39mNone\u001b[39;00m,\n\u001b[1;32m    141\u001b[0m ) \u001b[39m-\u001b[39m\u001b[39m>\u001b[39m Optional[Response]:\n\u001b[1;32m    142\u001b[0m     \u001b[39mreturn\u001b[39;00m cast(\n\u001b[1;32m    143\u001b[0m         Optional[Response],\n\u001b[1;32m    144\u001b[0m         from_nullable_channel(\n\u001b[0;32m--> 145\u001b[0m             \u001b[39mawait\u001b[39;00m \u001b[39mself\u001b[39m\u001b[39m.\u001b[39m_channel\u001b[39m.\u001b[39msend(\u001b[39m\"\u001b[39m\u001b[39mgoto\u001b[39m\u001b[39m\"\u001b[39m, locals_to_params(\u001b[39mlocals\u001b[39m()))\n\u001b[1;32m    146\u001b[0m         ),\n\u001b[1;32m    147\u001b[0m     )\n",
      "File \u001b[0;32m/Library/Frameworks/Python.framework/Versions/3.12/lib/python3.12/site-packages/playwright/_impl/_connection.py:59\u001b[0m, in \u001b[0;36mChannel.send\u001b[0;34m(self, method, params)\u001b[0m\n\u001b[1;32m     58\u001b[0m \u001b[39masync\u001b[39;00m \u001b[39mdef\u001b[39;00m \u001b[39msend\u001b[39m(\u001b[39mself\u001b[39m, method: \u001b[39mstr\u001b[39m, params: Dict \u001b[39m=\u001b[39m \u001b[39mNone\u001b[39;00m) \u001b[39m-\u001b[39m\u001b[39m>\u001b[39m Any:\n\u001b[0;32m---> 59\u001b[0m     \u001b[39mreturn\u001b[39;00m \u001b[39mawait\u001b[39;00m \u001b[39mself\u001b[39m\u001b[39m.\u001b[39m_connection\u001b[39m.\u001b[39mwrap_api_call(\n\u001b[1;32m     60\u001b[0m         \u001b[39mlambda\u001b[39;00m: \u001b[39mself\u001b[39m\u001b[39m.\u001b[39minner_send(method, params, \u001b[39mFalse\u001b[39;00m)\n\u001b[1;32m     61\u001b[0m     )\n",
      "File \u001b[0;32m/Library/Frameworks/Python.framework/Versions/3.12/lib/python3.12/site-packages/playwright/_impl/_connection.py:509\u001b[0m, in \u001b[0;36mConnection.wrap_api_call\u001b[0;34m(self, cb, is_internal)\u001b[0m\n\u001b[1;32m    507\u001b[0m \u001b[39mself\u001b[39m\u001b[39m.\u001b[39m_api_zone\u001b[39m.\u001b[39mset(_extract_stack_trace_information_from_stack(st, is_internal))\n\u001b[1;32m    508\u001b[0m \u001b[39mtry\u001b[39;00m:\n\u001b[0;32m--> 509\u001b[0m     \u001b[39mreturn\u001b[39;00m \u001b[39mawait\u001b[39;00m cb()\n\u001b[1;32m    510\u001b[0m \u001b[39mfinally\u001b[39;00m:\n\u001b[1;32m    511\u001b[0m     \u001b[39mself\u001b[39m\u001b[39m.\u001b[39m_api_zone\u001b[39m.\u001b[39mset(\u001b[39mNone\u001b[39;00m)\n",
      "File \u001b[0;32m/Library/Frameworks/Python.framework/Versions/3.12/lib/python3.12/site-packages/playwright/_impl/_connection.py:97\u001b[0m, in \u001b[0;36mChannel.inner_send\u001b[0;34m(self, method, params, return_as_dict)\u001b[0m\n\u001b[1;32m     95\u001b[0m \u001b[39mif\u001b[39;00m \u001b[39mnot\u001b[39;00m callback\u001b[39m.\u001b[39mfuture\u001b[39m.\u001b[39mdone():\n\u001b[1;32m     96\u001b[0m     callback\u001b[39m.\u001b[39mfuture\u001b[39m.\u001b[39mcancel()\n\u001b[0;32m---> 97\u001b[0m result \u001b[39m=\u001b[39m \u001b[39mnext\u001b[39;49m(\u001b[39miter\u001b[39;49m(done))\u001b[39m.\u001b[39;49mresult()\n\u001b[1;32m     98\u001b[0m \u001b[39m# Protocol now has named return values, assume result is one level deeper unless\u001b[39;00m\n\u001b[1;32m     99\u001b[0m \u001b[39m# there is explicit ambiguity.\u001b[39;00m\n\u001b[1;32m    100\u001b[0m \u001b[39mif\u001b[39;00m \u001b[39mnot\u001b[39;00m result:\n",
      "\u001b[0;31mError\u001b[0m: NS_ERROR_UNKNOWN_HOST"
     ]
    }
   ],
   "source": [
    "\n",
    "\n",
    "for f in standings_files:\n",
    "    filepath= os.path.join(STANDINGS_DIR, f)\n",
    "    await scrape_game(filepath)"
   ]
  }
 ],
 "metadata": {
  "kernelspec": {
   "display_name": "Python 3",
   "language": "python",
   "name": "python3"
  },
  "language_info": {
   "codemirror_mode": {
    "name": "ipython",
    "version": 3
   },
   "file_extension": ".py",
   "mimetype": "text/x-python",
   "name": "python",
   "nbconvert_exporter": "python",
   "pygments_lexer": "ipython3",
   "version": "3.12.1"
  }
 },
 "nbformat": 4,
 "nbformat_minor": 2
}
